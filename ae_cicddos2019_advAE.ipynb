{
 "cells": [
  {
   "cell_type": "code",
   "execution_count": 1,
   "metadata": {},
   "outputs": [
    {
     "name": "stdout",
     "output_type": "stream",
     "text": [
      "[ 0  1  2  3  4  5  6  7  8  9 10]\n",
      "[ 0  1  2  3  4  5  6  7  8  9 10]\n",
      "[ 0  1  2  3  4  5  6  7  8  9 10]\n"
     ]
    },
    {
     "data": {
      "text/plain": [
       "((490783, 78), (490783, 78), (490783,), (490783,), (490783, 78), (490783,))"
      ]
     },
     "execution_count": 1,
     "metadata": {},
     "output_type": "execute_result"
    }
   ],
   "source": [
    "import numpy as np \n",
    "\n",
    "data_path = \"/data/qgong/data/AE/CICDDoS2019/Data/cicddos\"\n",
    "\n",
    "X_train = np.load(data_path+\"/X_train.npy\")\n",
    "y_train = np.load(data_path+\"/y_train.npy\")\n",
    "X_test = np.load(data_path+\"/X_test.npy\")\n",
    "y_test = np.load(data_path+\"/y_test.npy\")\n",
    "\n",
    "X_adv = np.load(data_path+\"/Adv/Adv_X_test.npy\")\n",
    "y_adv = np.copy(y_test)\n",
    "\n",
    "print(np.unique(y_train))\n",
    "print(np.unique(y_test))\n",
    "print(np.unique(y_adv))\n",
    "\n",
    "X_train.shape, X_test.shape, y_train.shape, y_test.shape, X_adv.shape, y_adv.shape"
   ]
  },
  {
   "cell_type": "code",
   "execution_count": 2,
   "metadata": {},
   "outputs": [
    {
     "name": "stderr",
     "output_type": "stream",
     "text": [
      "2024-12-04 13:57:41.648549: E tensorflow/compiler/xla/stream_executor/cuda/cuda_dnn.cc:9342] Unable to register cuDNN factory: Attempting to register factory for plugin cuDNN when one has already been registered\n",
      "2024-12-04 13:57:41.648583: E tensorflow/compiler/xla/stream_executor/cuda/cuda_fft.cc:609] Unable to register cuFFT factory: Attempting to register factory for plugin cuFFT when one has already been registered\n",
      "2024-12-04 13:57:41.648608: E tensorflow/compiler/xla/stream_executor/cuda/cuda_blas.cc:1518] Unable to register cuBLAS factory: Attempting to register factory for plugin cuBLAS when one has already been registered\n",
      "2024-12-04 13:57:41.654501: I tensorflow/core/platform/cpu_feature_guard.cc:182] This TensorFlow binary is optimized to use available CPU instructions in performance-critical operations.\n",
      "To enable the following instructions: AVX2 FMA, in other operations, rebuild TensorFlow with the appropriate compiler flags.\n"
     ]
    },
    {
     "name": "stdout",
     "output_type": "stream",
     "text": [
      "Num GPUs Available:  4\n"
     ]
    },
    {
     "name": "stderr",
     "output_type": "stream",
     "text": [
      "2024-12-04 13:57:42.815563: I tensorflow/compiler/xla/stream_executor/cuda/cuda_gpu_executor.cc:894] successful NUMA node read from SysFS had negative value (-1), but there must be at least one NUMA node, so returning NUMA node zero. See more at https://github.com/torvalds/linux/blob/v6.0/Documentation/ABI/testing/sysfs-bus-pci#L344-L355\n",
      "2024-12-04 13:57:42.815828: I tensorflow/compiler/xla/stream_executor/cuda/cuda_gpu_executor.cc:894] successful NUMA node read from SysFS had negative value (-1), but there must be at least one NUMA node, so returning NUMA node zero. See more at https://github.com/torvalds/linux/blob/v6.0/Documentation/ABI/testing/sysfs-bus-pci#L344-L355\n",
      "2024-12-04 13:57:42.816067: I tensorflow/compiler/xla/stream_executor/cuda/cuda_gpu_executor.cc:894] successful NUMA node read from SysFS had negative value (-1), but there must be at least one NUMA node, so returning NUMA node zero. See more at https://github.com/torvalds/linux/blob/v6.0/Documentation/ABI/testing/sysfs-bus-pci#L344-L355\n",
      "2024-12-04 13:57:42.816297: I tensorflow/compiler/xla/stream_executor/cuda/cuda_gpu_executor.cc:894] successful NUMA node read from SysFS had negative value (-1), but there must be at least one NUMA node, so returning NUMA node zero. See more at https://github.com/torvalds/linux/blob/v6.0/Documentation/ABI/testing/sysfs-bus-pci#L344-L355\n",
      "2024-12-04 13:57:42.821117: I tensorflow/compiler/xla/stream_executor/cuda/cuda_gpu_executor.cc:894] successful NUMA node read from SysFS had negative value (-1), but there must be at least one NUMA node, so returning NUMA node zero. See more at https://github.com/torvalds/linux/blob/v6.0/Documentation/ABI/testing/sysfs-bus-pci#L344-L355\n",
      "2024-12-04 13:57:42.821368: I tensorflow/compiler/xla/stream_executor/cuda/cuda_gpu_executor.cc:894] successful NUMA node read from SysFS had negative value (-1), but there must be at least one NUMA node, so returning NUMA node zero. See more at https://github.com/torvalds/linux/blob/v6.0/Documentation/ABI/testing/sysfs-bus-pci#L344-L355\n",
      "2024-12-04 13:57:42.821600: I tensorflow/compiler/xla/stream_executor/cuda/cuda_gpu_executor.cc:894] successful NUMA node read from SysFS had negative value (-1), but there must be at least one NUMA node, so returning NUMA node zero. See more at https://github.com/torvalds/linux/blob/v6.0/Documentation/ABI/testing/sysfs-bus-pci#L344-L355\n",
      "2024-12-04 13:57:42.821827: I tensorflow/compiler/xla/stream_executor/cuda/cuda_gpu_executor.cc:894] successful NUMA node read from SysFS had negative value (-1), but there must be at least one NUMA node, so returning NUMA node zero. See more at https://github.com/torvalds/linux/blob/v6.0/Documentation/ABI/testing/sysfs-bus-pci#L344-L355\n",
      "2024-12-04 13:57:42.822066: I tensorflow/compiler/xla/stream_executor/cuda/cuda_gpu_executor.cc:894] successful NUMA node read from SysFS had negative value (-1), but there must be at least one NUMA node, so returning NUMA node zero. See more at https://github.com/torvalds/linux/blob/v6.0/Documentation/ABI/testing/sysfs-bus-pci#L344-L355\n",
      "2024-12-04 13:57:42.822292: I tensorflow/compiler/xla/stream_executor/cuda/cuda_gpu_executor.cc:894] successful NUMA node read from SysFS had negative value (-1), but there must be at least one NUMA node, so returning NUMA node zero. See more at https://github.com/torvalds/linux/blob/v6.0/Documentation/ABI/testing/sysfs-bus-pci#L344-L355\n",
      "2024-12-04 13:57:42.822516: I tensorflow/compiler/xla/stream_executor/cuda/cuda_gpu_executor.cc:894] successful NUMA node read from SysFS had negative value (-1), but there must be at least one NUMA node, so returning NUMA node zero. See more at https://github.com/torvalds/linux/blob/v6.0/Documentation/ABI/testing/sysfs-bus-pci#L344-L355\n",
      "2024-12-04 13:57:42.822739: I tensorflow/compiler/xla/stream_executor/cuda/cuda_gpu_executor.cc:894] successful NUMA node read from SysFS had negative value (-1), but there must be at least one NUMA node, so returning NUMA node zero. See more at https://github.com/torvalds/linux/blob/v6.0/Documentation/ABI/testing/sysfs-bus-pci#L344-L355\n"
     ]
    }
   ],
   "source": [
    "import tensorflow as tf\n",
    "\n",
    "print(\"Num GPUs Available: \", len(tf.config.list_physical_devices('GPU')))"
   ]
  },
  {
   "cell_type": "code",
   "execution_count": 3,
   "metadata": {},
   "outputs": [
    {
     "name": "stderr",
     "output_type": "stream",
     "text": [
      "2024-12-04 13:57:43.450293: I tensorflow/compiler/xla/stream_executor/cuda/cuda_gpu_executor.cc:894] successful NUMA node read from SysFS had negative value (-1), but there must be at least one NUMA node, so returning NUMA node zero. See more at https://github.com/torvalds/linux/blob/v6.0/Documentation/ABI/testing/sysfs-bus-pci#L344-L355\n",
      "2024-12-04 13:57:43.450561: I tensorflow/compiler/xla/stream_executor/cuda/cuda_gpu_executor.cc:894] successful NUMA node read from SysFS had negative value (-1), but there must be at least one NUMA node, so returning NUMA node zero. See more at https://github.com/torvalds/linux/blob/v6.0/Documentation/ABI/testing/sysfs-bus-pci#L344-L355\n",
      "2024-12-04 13:57:43.450797: I tensorflow/compiler/xla/stream_executor/cuda/cuda_gpu_executor.cc:894] successful NUMA node read from SysFS had negative value (-1), but there must be at least one NUMA node, so returning NUMA node zero. See more at https://github.com/torvalds/linux/blob/v6.0/Documentation/ABI/testing/sysfs-bus-pci#L344-L355\n",
      "2024-12-04 13:57:43.451045: I tensorflow/compiler/xla/stream_executor/cuda/cuda_gpu_executor.cc:894] successful NUMA node read from SysFS had negative value (-1), but there must be at least one NUMA node, so returning NUMA node zero. See more at https://github.com/torvalds/linux/blob/v6.0/Documentation/ABI/testing/sysfs-bus-pci#L344-L355\n",
      "2024-12-04 13:57:43.451275: I tensorflow/compiler/xla/stream_executor/cuda/cuda_gpu_executor.cc:894] successful NUMA node read from SysFS had negative value (-1), but there must be at least one NUMA node, so returning NUMA node zero. See more at https://github.com/torvalds/linux/blob/v6.0/Documentation/ABI/testing/sysfs-bus-pci#L344-L355\n",
      "2024-12-04 13:57:43.451497: I tensorflow/compiler/xla/stream_executor/cuda/cuda_gpu_executor.cc:894] successful NUMA node read from SysFS had negative value (-1), but there must be at least one NUMA node, so returning NUMA node zero. See more at https://github.com/torvalds/linux/blob/v6.0/Documentation/ABI/testing/sysfs-bus-pci#L344-L355\n",
      "2024-12-04 13:57:43.451717: I tensorflow/compiler/xla/stream_executor/cuda/cuda_gpu_executor.cc:894] successful NUMA node read from SysFS had negative value (-1), but there must be at least one NUMA node, so returning NUMA node zero. See more at https://github.com/torvalds/linux/blob/v6.0/Documentation/ABI/testing/sysfs-bus-pci#L344-L355\n",
      "2024-12-04 13:57:43.451945: I tensorflow/compiler/xla/stream_executor/cuda/cuda_gpu_executor.cc:894] successful NUMA node read from SysFS had negative value (-1), but there must be at least one NUMA node, so returning NUMA node zero. See more at https://github.com/torvalds/linux/blob/v6.0/Documentation/ABI/testing/sysfs-bus-pci#L344-L355\n",
      "2024-12-04 13:57:43.452305: I tensorflow/compiler/xla/stream_executor/cuda/cuda_gpu_executor.cc:894] successful NUMA node read from SysFS had negative value (-1), but there must be at least one NUMA node, so returning NUMA node zero. See more at https://github.com/torvalds/linux/blob/v6.0/Documentation/ABI/testing/sysfs-bus-pci#L344-L355\n",
      "2024-12-04 13:57:43.452528: I tensorflow/compiler/xla/stream_executor/cuda/cuda_gpu_executor.cc:894] successful NUMA node read from SysFS had negative value (-1), but there must be at least one NUMA node, so returning NUMA node zero. See more at https://github.com/torvalds/linux/blob/v6.0/Documentation/ABI/testing/sysfs-bus-pci#L344-L355\n",
      "2024-12-04 13:57:43.452748: I tensorflow/compiler/xla/stream_executor/cuda/cuda_gpu_executor.cc:894] successful NUMA node read from SysFS had negative value (-1), but there must be at least one NUMA node, so returning NUMA node zero. See more at https://github.com/torvalds/linux/blob/v6.0/Documentation/ABI/testing/sysfs-bus-pci#L344-L355\n",
      "2024-12-04 13:57:43.452975: I tensorflow/compiler/xla/stream_executor/cuda/cuda_gpu_executor.cc:894] successful NUMA node read from SysFS had negative value (-1), but there must be at least one NUMA node, so returning NUMA node zero. See more at https://github.com/torvalds/linux/blob/v6.0/Documentation/ABI/testing/sysfs-bus-pci#L344-L355\n",
      "2024-12-04 13:57:43.467974: I tensorflow/compiler/xla/stream_executor/cuda/cuda_gpu_executor.cc:894] successful NUMA node read from SysFS had negative value (-1), but there must be at least one NUMA node, so returning NUMA node zero. See more at https://github.com/torvalds/linux/blob/v6.0/Documentation/ABI/testing/sysfs-bus-pci#L344-L355\n",
      "2024-12-04 13:57:43.468226: I tensorflow/compiler/xla/stream_executor/cuda/cuda_gpu_executor.cc:894] successful NUMA node read from SysFS had negative value (-1), but there must be at least one NUMA node, so returning NUMA node zero. See more at https://github.com/torvalds/linux/blob/v6.0/Documentation/ABI/testing/sysfs-bus-pci#L344-L355\n",
      "2024-12-04 13:57:43.468468: I tensorflow/compiler/xla/stream_executor/cuda/cuda_gpu_executor.cc:894] successful NUMA node read from SysFS had negative value (-1), but there must be at least one NUMA node, so returning NUMA node zero. See more at https://github.com/torvalds/linux/blob/v6.0/Documentation/ABI/testing/sysfs-bus-pci#L344-L355\n",
      "2024-12-04 13:57:43.468706: I tensorflow/compiler/xla/stream_executor/cuda/cuda_gpu_executor.cc:894] successful NUMA node read from SysFS had negative value (-1), but there must be at least one NUMA node, so returning NUMA node zero. See more at https://github.com/torvalds/linux/blob/v6.0/Documentation/ABI/testing/sysfs-bus-pci#L344-L355\n",
      "2024-12-04 13:57:43.468941: I tensorflow/compiler/xla/stream_executor/cuda/cuda_gpu_executor.cc:894] successful NUMA node read from SysFS had negative value (-1), but there must be at least one NUMA node, so returning NUMA node zero. See more at https://github.com/torvalds/linux/blob/v6.0/Documentation/ABI/testing/sysfs-bus-pci#L344-L355\n",
      "2024-12-04 13:57:43.469172: I tensorflow/compiler/xla/stream_executor/cuda/cuda_gpu_executor.cc:894] successful NUMA node read from SysFS had negative value (-1), but there must be at least one NUMA node, so returning NUMA node zero. See more at https://github.com/torvalds/linux/blob/v6.0/Documentation/ABI/testing/sysfs-bus-pci#L344-L355\n",
      "2024-12-04 13:57:43.469397: I tensorflow/compiler/xla/stream_executor/cuda/cuda_gpu_executor.cc:894] successful NUMA node read from SysFS had negative value (-1), but there must be at least one NUMA node, so returning NUMA node zero. See more at https://github.com/torvalds/linux/blob/v6.0/Documentation/ABI/testing/sysfs-bus-pci#L344-L355\n",
      "2024-12-04 13:57:43.469620: I tensorflow/compiler/xla/stream_executor/cuda/cuda_gpu_executor.cc:894] successful NUMA node read from SysFS had negative value (-1), but there must be at least one NUMA node, so returning NUMA node zero. See more at https://github.com/torvalds/linux/blob/v6.0/Documentation/ABI/testing/sysfs-bus-pci#L344-L355\n",
      "2024-12-04 13:57:43.469857: I tensorflow/compiler/xla/stream_executor/cuda/cuda_gpu_executor.cc:894] successful NUMA node read from SysFS had negative value (-1), but there must be at least one NUMA node, so returning NUMA node zero. See more at https://github.com/torvalds/linux/blob/v6.0/Documentation/ABI/testing/sysfs-bus-pci#L344-L355\n",
      "2024-12-04 13:57:43.470078: I tensorflow/core/common_runtime/gpu/gpu_device.cc:1886] Created device /job:localhost/replica:0/task:0/device:GPU:0 with 3729 MB memory:  -> device: 0, name: NVIDIA RTX 6000 Ada Generation, pci bus id: 0000:01:00.0, compute capability: 8.9\n",
      "2024-12-04 13:57:43.470459: I tensorflow/compiler/xla/stream_executor/cuda/cuda_gpu_executor.cc:894] successful NUMA node read from SysFS had negative value (-1), but there must be at least one NUMA node, so returning NUMA node zero. See more at https://github.com/torvalds/linux/blob/v6.0/Documentation/ABI/testing/sysfs-bus-pci#L344-L355\n",
      "2024-12-04 13:57:43.470672: I tensorflow/core/common_runtime/gpu/gpu_device.cc:1886] Created device /job:localhost/replica:0/task:0/device:GPU:1 with 11302 MB memory:  -> device: 1, name: NVIDIA RTX 6000 Ada Generation, pci bus id: 0000:2c:00.0, compute capability: 8.9\n",
      "2024-12-04 13:57:43.470974: I tensorflow/compiler/xla/stream_executor/cuda/cuda_gpu_executor.cc:894] successful NUMA node read from SysFS had negative value (-1), but there must be at least one NUMA node, so returning NUMA node zero. See more at https://github.com/torvalds/linux/blob/v6.0/Documentation/ABI/testing/sysfs-bus-pci#L344-L355\n",
      "2024-12-04 13:57:43.471185: I tensorflow/core/common_runtime/gpu/gpu_device.cc:1886] Created device /job:localhost/replica:0/task:0/device:GPU:2 with 25326 MB memory:  -> device: 2, name: NVIDIA RTX 6000 Ada Generation, pci bus id: 0000:41:00.0, compute capability: 8.9\n",
      "2024-12-04 13:57:43.471464: I tensorflow/compiler/xla/stream_executor/cuda/cuda_gpu_executor.cc:894] successful NUMA node read from SysFS had negative value (-1), but there must be at least one NUMA node, so returning NUMA node zero. See more at https://github.com/torvalds/linux/blob/v6.0/Documentation/ABI/testing/sysfs-bus-pci#L344-L355\n",
      "2024-12-04 13:57:43.471676: I tensorflow/core/common_runtime/gpu/gpu_device.cc:1886] Created device /job:localhost/replica:0/task:0/device:GPU:3 with 46661 MB memory:  -> device: 3, name: NVIDIA RTX 6000 Ada Generation, pci bus id: 0000:61:00.0, compute capability: 8.9\n"
     ]
    },
    {
     "name": "stdout",
     "output_type": "stream",
     "text": [
      "Epoch 1/20\n"
     ]
    },
    {
     "name": "stderr",
     "output_type": "stream",
     "text": [
      "2024-12-04 13:57:44.906030: I tensorflow/compiler/xla/service/service.cc:168] XLA service 0x652c9479e9a0 initialized for platform CUDA (this does not guarantee that XLA will be used). Devices:\n",
      "2024-12-04 13:57:44.906058: I tensorflow/compiler/xla/service/service.cc:176]   StreamExecutor device (0): NVIDIA RTX 6000 Ada Generation, Compute Capability 8.9\n",
      "2024-12-04 13:57:44.906064: I tensorflow/compiler/xla/service/service.cc:176]   StreamExecutor device (1): NVIDIA RTX 6000 Ada Generation, Compute Capability 8.9\n",
      "2024-12-04 13:57:44.906068: I tensorflow/compiler/xla/service/service.cc:176]   StreamExecutor device (2): NVIDIA RTX 6000 Ada Generation, Compute Capability 8.9\n",
      "2024-12-04 13:57:44.906072: I tensorflow/compiler/xla/service/service.cc:176]   StreamExecutor device (3): NVIDIA RTX 6000 Ada Generation, Compute Capability 8.9\n",
      "2024-12-04 13:57:44.910451: I tensorflow/compiler/mlir/tensorflow/utils/dump_mlir_util.cc:269] disabling MLIR crash reproducer, set env var `MLIR_CRASH_REPRODUCER_DIRECTORY` to enable.\n",
      "2024-12-04 13:57:44.922794: I tensorflow/compiler/xla/stream_executor/cuda/cuda_dnn.cc:442] Loaded cuDNN version 8700\n",
      "2024-12-04 13:57:45.000082: I ./tensorflow/compiler/jit/device_compiler.h:186] Compiled cluster using XLA!  This line is logged at most once for the lifetime of the process.\n"
     ]
    },
    {
     "name": "stdout",
     "output_type": "stream",
     "text": [
      "6135/6135 [==============================] - 57s 9ms/step - loss: 0.4780 - accuracy: 0.8218 - val_loss: 0.3339 - val_accuracy: 0.8701\n",
      "Epoch 2/20\n",
      "6135/6135 [==============================] - 55s 9ms/step - loss: 0.3554 - accuracy: 0.8606 - val_loss: 0.3105 - val_accuracy: 0.8752\n",
      "Epoch 3/20\n",
      "6135/6135 [==============================] - 55s 9ms/step - loss: 0.3342 - accuracy: 0.8676 - val_loss: 0.3094 - val_accuracy: 0.8791\n",
      "Epoch 4/20\n",
      "6135/6135 [==============================] - 55s 9ms/step - loss: 0.3238 - accuracy: 0.8717 - val_loss: 0.2916 - val_accuracy: 0.8851\n",
      "Epoch 5/20\n",
      "6135/6135 [==============================] - 55s 9ms/step - loss: 0.3167 - accuracy: 0.8730 - val_loss: 0.2959 - val_accuracy: 0.8776\n",
      "Epoch 6/20\n",
      "6135/6135 [==============================] - 55s 9ms/step - loss: 0.3123 - accuracy: 0.8752 - val_loss: 0.2897 - val_accuracy: 0.8815\n",
      "Epoch 7/20\n",
      "6135/6135 [==============================] - 54s 9ms/step - loss: 0.3077 - accuracy: 0.8763 - val_loss: 0.2811 - val_accuracy: 0.8848\n",
      "Epoch 8/20\n",
      "6135/6135 [==============================] - 55s 9ms/step - loss: 0.3046 - accuracy: 0.8775 - val_loss: 0.2795 - val_accuracy: 0.8864\n",
      "Epoch 9/20\n",
      "6135/6135 [==============================] - 54s 9ms/step - loss: 0.3021 - accuracy: 0.8786 - val_loss: 0.2865 - val_accuracy: 0.8834\n",
      "Epoch 10/20\n",
      "6135/6135 [==============================] - 54s 9ms/step - loss: 0.3003 - accuracy: 0.8789 - val_loss: 0.2708 - val_accuracy: 0.8907\n",
      "Epoch 11/20\n",
      "6135/6135 [==============================] - 55s 9ms/step - loss: 0.2984 - accuracy: 0.8794 - val_loss: 0.2859 - val_accuracy: 0.8831\n",
      "Epoch 12/20\n",
      "6135/6135 [==============================] - 54s 9ms/step - loss: 0.2975 - accuracy: 0.8797 - val_loss: 0.2775 - val_accuracy: 0.8885\n",
      "Epoch 13/20\n",
      "6135/6135 [==============================] - 54s 9ms/step - loss: 0.2950 - accuracy: 0.8803 - val_loss: 0.2737 - val_accuracy: 0.8892\n",
      "Epoch 14/20\n",
      "6135/6135 [==============================] - 54s 9ms/step - loss: 0.2939 - accuracy: 0.8810 - val_loss: 0.2786 - val_accuracy: 0.8895\n",
      "Epoch 15/20\n",
      "6135/6135 [==============================] - 55s 9ms/step - loss: 0.2927 - accuracy: 0.8812 - val_loss: 0.2700 - val_accuracy: 0.8908\n",
      "Epoch 16/20\n",
      "6135/6135 [==============================] - 55s 9ms/step - loss: 0.2927 - accuracy: 0.8811 - val_loss: 0.2875 - val_accuracy: 0.8838\n",
      "Epoch 17/20\n",
      "6135/6135 [==============================] - 54s 9ms/step - loss: 0.2909 - accuracy: 0.8816 - val_loss: 0.2698 - val_accuracy: 0.8896\n",
      "Epoch 18/20\n",
      "6135/6135 [==============================] - 55s 9ms/step - loss: 0.2908 - accuracy: 0.8820 - val_loss: 0.2723 - val_accuracy: 0.8893\n",
      "Epoch 19/20\n",
      "6135/6135 [==============================] - 54s 9ms/step - loss: 0.2891 - accuracy: 0.8816 - val_loss: 0.2703 - val_accuracy: 0.8906\n",
      "Epoch 20/20\n",
      "6135/6135 [==============================] - 54s 9ms/step - loss: 0.2892 - accuracy: 0.8825 - val_loss: 0.2749 - val_accuracy: 0.8889\n"
     ]
    }
   ],
   "source": [
    "\n",
    "import tensorflow as tf\n",
    "from tensorflow.keras.layers import Dense, Dropout, Input\n",
    "from tensorflow.keras.models import Model\n",
    "from tensorflow.keras.optimizers import Adam\n",
    "from sklearn.metrics import f1_score\n",
    "\n",
    "\n",
    "class MetricsCallback(tf.keras.callbacks.Callback):\n",
    "    def __init__(self, X_val, y_val):\n",
    "        super().__init__()\n",
    "        self.X_val = X_val\n",
    "        self.y_val = y_val\n",
    "\n",
    "    def on_epoch_end(self, epoch, logs=None):\n",
    "        # Get predictions\n",
    "        y_pred = np.argmax(self.model.predict(self.X_val, verbose=0), axis=-1)\n",
    "\n",
    "        # Calculate F1 score\n",
    "        f1 = f1_score(self.y_val, y_pred, average='weighted')\n",
    "\n",
    "        # Print metrics with six significant digits\n",
    "        print(f\"Epoch {epoch + 1:03d}: \"\n",
    "              f\"loss={logs['loss']:.6f}, \"\n",
    "              f\"accuracy={logs['accuracy']:.6f}, \"\n",
    "              f\"val_loss={logs['val_loss']:.6f}, \"\n",
    "              f\"val_accuracy={logs['val_accuracy']:.6f}, \"\n",
    "              f\"F1={f1:.6f}\")\n",
    "\n",
    "\n",
    "\n",
    "# Define a more practical classifier architecture\n",
    "def create_classifier(input_dim, output_dim):\n",
    "    inputs = Input(shape=(input_dim,))\n",
    "    x = Dense(128, activation='relu')(inputs)\n",
    "    x = Dropout(0.3)(x)\n",
    "    x = Dense(64, activation='relu')(x)\n",
    "    x = Dropout(0.3)(x)\n",
    "    x = Dense(32, activation='relu')(x)\n",
    "    outputs = Dense(output_dim, activation='softmax')(x)\n",
    "    model = Model(inputs=inputs, outputs=outputs)\n",
    "    return model\n",
    "\n",
    "# Parameters\n",
    "input_dim = 78  # Replace with the number of features in your tabular dataset\n",
    "output_dim = 11  # Replace with the number of classes\n",
    "\n",
    "# Create the classifier\n",
    "classifier = create_classifier(input_dim, output_dim)\n",
    "\n",
    "# Compile the classifier\n",
    "classifier.compile(optimizer=Adam(learning_rate=0.001),\n",
    "                   loss='sparse_categorical_crossentropy',\n",
    "                   metrics=['accuracy'])\n",
    "\n",
    "\n",
    "# Pre-train the classifier\n",
    "# classifier.fit( X_train, \n",
    "#                 y_train, \n",
    "#                 epochs=50, \n",
    "#                 batch_size=32, \n",
    "#                 validation_data=(X_test, y_test),\n",
    "#                 callbacks=[MetricsCallback(X_test, y_test)])\n",
    "\n",
    "classifier.fit( X_train, \n",
    "                y_train, \n",
    "                epochs=20, \n",
    "                batch_size=64, \n",
    "                validation_split=0.2)\n",
    "\n",
    "# Save the weights\n",
    "classifier.save_weights('classifier.weights.h5')"
   ]
  },
  {
   "cell_type": "code",
   "execution_count": 4,
   "metadata": {},
   "outputs": [
    {
     "name": "stdout",
     "output_type": "stream",
     "text": [
      "15337/15337 [==============================] - 65s 4ms/step\n",
      "Accuracy: 0.889413\n",
      "Precision: 0.900074\n",
      "Recall: 0.889413\n",
      "F1 Score: 0.890361\n"
     ]
    }
   ],
   "source": [
    "from sklearn.metrics import precision_score, recall_score, f1_score\n",
    "\n",
    "pretrained_classifier = create_classifier(input_dim, output_dim)\n",
    "pretrained_classifier.load_weights('classifier.weights.h5')\n",
    "# pretrained_classifier.compile()\n",
    "\n",
    "pretrained_classifier.compile(\n",
    "    optimizer=tf.keras.optimizers.Adam(learning_rate=0.001),\n",
    "    loss='sparse_categorical_crossentropy',\n",
    "    metrics=['accuracy']\n",
    ")\n",
    "\n",
    "# Verify the loaded model works\n",
    "loss, accuracy = pretrained_classifier.evaluate(X_test, y_test, verbose=0)\n",
    "\n",
    "# Predict class probabilities and get the predicted classes\n",
    "y_pred_prob = pretrained_classifier.predict(X_test)\n",
    "y_pred = y_pred_prob.argmax(axis=1)\n",
    "\n",
    "# Compute precision, recall, and F1 score using scikit-learn\n",
    "precision = precision_score(y_test, y_pred, average='weighted')  # Weighted for multi-class\n",
    "recall = recall_score(y_test, y_pred, average='weighted')        # Weighted for multi-class\n",
    "f1 = f1_score(y_test, y_pred, average='weighted')                # Weighted for multi-class\n",
    "\n",
    "# Print the metrics\n",
    "print(f\"Accuracy: {accuracy:.6f}\")\n",
    "print(f\"Precision: {precision:.6f}\")\n",
    "print(f\"Recall: {recall:.6f}\")\n",
    "print(f\"F1 Score: {f1:.6f}\")"
   ]
  },
  {
   "cell_type": "code",
   "execution_count": 5,
   "metadata": {},
   "outputs": [],
   "source": [
    "# from alibi_detect.ad import AdversarialAE\n",
    "# from alibi_detect.utils.saving import save_detector\n",
    "\n",
    "# # Define encoder and decoder (same as before or custom)\n",
    "# encoder_net = tf.keras.Sequential(\n",
    "#     [\n",
    "#         Input(shape=(input_dim,)),\n",
    "#         Dense(64, activation='relu'),\n",
    "#         Dense(32)  # Latent representation\n",
    "#     ]\n",
    "# )\n",
    "\n",
    "# decoder_net = tf.keras.Sequential(\n",
    "#     [\n",
    "#         Input(shape=(32,)),\n",
    "#         Dense(64, activation='relu'),\n",
    "#         Dense(input_dim)  # Reconstruct original input\n",
    "#     ]\n",
    "# )\n",
    "\n",
    "# # Initialize AdvAE with the pre-trained classifier\n",
    "# ad = AdversarialAE(\n",
    "#     encoder_net=encoder_net,\n",
    "#     decoder_net=decoder_net,\n",
    "#     model=pretrained_classifier\n",
    "# )\n",
    "\n",
    "# # Train the AdvAE\n",
    "# ad.fit(X_train, epochs=40, batch_size=64, verbose=True)\n",
    "\n",
    "# # Save the trained AdvAE detector\n",
    "# save_detector(ad, 'adv_ae_detector_with_pretrained_classifier')\n"
   ]
  }
 ],
 "metadata": {
  "kernelspec": {
   "display_name": "my_ae_detector",
   "language": "python",
   "name": "python3"
  },
  "language_info": {
   "codemirror_mode": {
    "name": "ipython",
    "version": 3
   },
   "file_extension": ".py",
   "mimetype": "text/x-python",
   "name": "python",
   "nbconvert_exporter": "python",
   "pygments_lexer": "ipython3",
   "version": "3.9.20"
  }
 },
 "nbformat": 4,
 "nbformat_minor": 2
}
